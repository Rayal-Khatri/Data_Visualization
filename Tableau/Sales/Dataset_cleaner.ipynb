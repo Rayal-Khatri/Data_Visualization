{
 "cells": [
  {
   "cell_type": "code",
   "execution_count": 2,
   "metadata": {},
   "outputs": [
    {
     "name": "stdout",
     "output_type": "stream",
     "text": [
      "Sales column has been successfully converted to float and saved to a new CSV file.\n"
     ]
    }
   ],
   "source": [
    "import pandas as pd\n",
    "\n",
    "# Load the CSV file with the correct delimiter\n",
    "df = pd.read_csv('Orders.csv', delimiter=';')\n",
    "\n",
    "# Replace comma with dot in the 'Sales' column and convert to float\n",
    "df['Sales'] = df['Sales'].str.replace(',', '.').astype(float)\n",
    "\n",
    "# Save the modified data to a new CSV file\n",
    "df.to_csv('modified_orders.csv', index=False, sep=';')\n",
    "\n",
    "print(\"Sales column has been successfully converted to float and saved to a new CSV file.\")\n"
   ]
  }
 ],
 "metadata": {
  "kernelspec": {
   "display_name": "Python 3",
   "language": "python",
   "name": "python3"
  },
  "language_info": {
   "codemirror_mode": {
    "name": "ipython",
    "version": 3
   },
   "file_extension": ".py",
   "mimetype": "text/x-python",
   "name": "python",
   "nbconvert_exporter": "python",
   "pygments_lexer": "ipython3",
   "version": "3.11.4"
  }
 },
 "nbformat": 4,
 "nbformat_minor": 2
}
